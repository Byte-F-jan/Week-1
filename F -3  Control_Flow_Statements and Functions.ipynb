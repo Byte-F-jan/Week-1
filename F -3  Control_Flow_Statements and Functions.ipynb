{
 "cells": [
  {
   "cell_type": "markdown",
   "metadata": {},
   "source": [
    "## IF conditions"
   ]
  },
  {
   "cell_type": "markdown",
   "metadata": {},
   "source": [
    "Python Conditions and If statements\n",
    "\n",
    "Python supports the usual logical conditions from mathematics:\n",
    "\n",
    "    Equals: a == b\n",
    "\n",
    "    Not Equals: a != b\n",
    "\n",
    "    Less than: a < b\n",
    "\n",
    "    Less than or equal to: a <= b\n",
    "\n",
    "    Greater than: a > b\n",
    "\n",
    "    Greater than or equal to: a >= b\n",
    "\n",
    "    These conditions can be used in several ways, most commonly in \"if statements\" and loops.\n",
    "\n",
    "    An \"if statement\" is written by using the if keyword."
   ]
  },
  {
   "cell_type": "code",
   "execution_count": null,
   "metadata": {},
   "outputs": [],
   "source": [
    "'Syntax'\n",
    "\n",
    "# if condition:\n",
    "#     statements to be executed\n",
    "# elif condition:\n",
    "#     statements to be executed"
   ]
  },
  {
   "cell_type": "code",
   "execution_count": null,
   "metadata": {},
   "outputs": [],
   "source": [
    "if 1<5:\n",
    "    print('hi')\n",
    "    print(\"How are you?\")\n",
    "else:\n",
    "    print('hello')\n",
    "print()\n"
   ]
  },
  {
   "cell_type": "code",
   "execution_count": null,
   "metadata": {},
   "outputs": [],
   "source": [
    "a = int(input(\"enter first number \"))\n",
    "b = int(input(\"enter second number \"))\n",
    "\n",
    "if (a>b):\n",
    "    print(a,\" is greater\")  \n",
    "elif (b>a):\n",
    "    print(b,\" is greater\")\n",
    "else:\n",
    "    print(a,\" is equal to\",b)"
   ]
  },
  {
   "cell_type": "code",
   "execution_count": null,
   "metadata": {},
   "outputs": [],
   "source": [
    "'''Input three numbers from the user and print out the greatest number'''\n",
    "\n",
    "a = int(input(\"enter 1st number \"))\n",
    "b = int(input('enter 2nd number '))\n",
    "c = int(input('enter 3rd number '))\n",
    "x = True\n",
    "\n",
    "\n",
    "if a>b and a>c:\n",
    "    print(\"the greatest number is :\", a)\n",
    "    if x==True:\n",
    "        print('x is true')\n",
    "    else:\n",
    "        print('x is false')\n",
    "\n",
    "elif b>a and b>c:\n",
    "    print(\"the greatest number is :\", b)\n",
    "\n",
    "elif c>a and c>b:\n",
    "    print(\"the greatest number is :\", c)\n",
    "\n",
    "elif a==b==c:\n",
    "    print('All are equal')\n",
    "    \n",
    "elif a==b or b==c or a==c:\n",
    "    print('Two numbers are equal')"
   ]
  },
  {
   "cell_type": "code",
   "execution_count": null,
   "metadata": {},
   "outputs": [],
   "source": [
    "a = 4\n",
    "b = 4\n",
    "\n",
    "if a>b: print(\"a is greater than b\")\n",
    "    \n",
    "elif b>a: print('b greater than a')\n",
    "    \n",
    "else: print('b is equal to a')"
   ]
  },
  {
   "cell_type": "code",
   "execution_count": null,
   "metadata": {},
   "outputs": [],
   "source": [
    "print(\"A\") if a < b else print(\"B\")"
   ]
  },
  {
   "cell_type": "code",
   "execution_count": null,
   "metadata": {},
   "outputs": [],
   "source": [
    "print(\"A\") if a > b else print(\"=\") if a == b else print(\"B\")"
   ]
  },
  {
   "cell_type": "code",
   "execution_count": null,
   "metadata": {},
   "outputs": [],
   "source": [
    "l = [1,2,3,4]\n",
    "e = 10\n",
    "\n",
    "if e in l:\n",
    "    print('element present in list')\n",
    "else:\n",
    "    print('element not present in list')\n",
    "    \n",
    "d = {1:10, 2:20}\n",
    "\n",
    "if e in d.values():\n",
    "    print('True')"
   ]
  },
  {
   "cell_type": "markdown",
   "metadata": {},
   "source": [
    "# Loops"
   ]
  },
  {
   "cell_type": "markdown",
   "metadata": {},
   "source": [
    "## For Loops"
   ]
  },
  {
   "cell_type": "code",
   "execution_count": null,
   "metadata": {},
   "outputs": [],
   "source": [
    "for i in range(6):\n",
    "    print(i)\n"
   ]
  },
  {
   "cell_type": "code",
   "execution_count": null,
   "metadata": {},
   "outputs": [],
   "source": [
    "for num in range(5):\n",
    "    print( num, end=' ')"
   ]
  },
  {
   "cell_type": "code",
   "execution_count": null,
   "metadata": {},
   "outputs": [],
   "source": [
    "for i in range(10):\n",
    "    print(i)\n",
    "    "
   ]
  },
  {
   "cell_type": "code",
   "execution_count": null,
   "metadata": {},
   "outputs": [],
   "source": [
    "a = [1,2,3,4,5,3,7,8,9,10]\n",
    "\n",
    "for i in range(len(a)):\n",
    "    if a[i]%3==0:\n",
    "        print(a[i], end = ' ')\n",
    "\n",
    "# for i in range(10):\n",
    "        \n",
    "# for i in a:\n",
    "#     if i%3==0:\n",
    "#         print(i, end=', ')"
   ]
  },
  {
   "cell_type": "code",
   "execution_count": null,
   "metadata": {},
   "outputs": [],
   "source": [
    "a = [1,2,3,4,5,6,7,8,9,10]\n",
    "for j in a:\n",
    "    print(j, end=' ')"
   ]
  },
  {
   "cell_type": "code",
   "execution_count": null,
   "metadata": {},
   "outputs": [],
   "source": [
    "for i in range(3, 100, 1): # start, end, steps\n",
    "    print(i, end=' ')"
   ]
  },
  {
   "cell_type": "markdown",
   "metadata": {},
   "source": []
  },
  {
   "cell_type": "code",
   "execution_count": null,
   "metadata": {},
   "outputs": [],
   "source": [
    "for i in range(100, 0, -5):\n",
    "    print(i, end=' ')"
   ]
  },
  {
   "cell_type": "code",
   "execution_count": null,
   "metadata": {},
   "outputs": [],
   "source": [
    "l = [1,2,3,4,5,6,7]\n",
    "x = l[0:5]\n",
    "print(x)\n",
    "d = {1:10, 2:20}\n",
    "for i in d.keys():\n",
    "    print(i)"
   ]
  },
  {
   "cell_type": "code",
   "execution_count": null,
   "metadata": {},
   "outputs": [],
   "source": [
    "# range - step\n",
    "\n",
    "for i in range(12, 0, -1):\n",
    "    print(i, end=', ')"
   ]
  },
  {
   "cell_type": "code",
   "execution_count": null,
   "metadata": {},
   "outputs": [],
   "source": [
    "'''print the squares of numbers from 0 to 10'''\n",
    "\n",
    "for i in range(11):\n",
    "    print(i**2, end=' ')"
   ]
  },
  {
   "cell_type": "code",
   "execution_count": null,
   "metadata": {},
   "outputs": [],
   "source": [
    "# List Comprehension\n",
    "\n",
    "sqlist=[]\n",
    "for x in range(1,11):\n",
    "    sqlist.append(x*x*x)\n",
    "\n",
    "sqlist"
   ]
  },
  {
   "cell_type": "code",
   "execution_count": null,
   "metadata": {},
   "outputs": [],
   "source": [
    "for x in range(1,11):\n",
    "    b=x**3\n",
    "    print(b)"
   ]
  },
  {
   "cell_type": "code",
   "execution_count": null,
   "metadata": {},
   "outputs": [],
   "source": [
    "a=10\n",
    "a=20\n",
    "a"
   ]
  },
  {
   "cell_type": "code",
   "execution_count": null,
   "metadata": {},
   "outputs": [],
   "source": [
    "list=[print(i) for i in range(10)]\n",
    "list"
   ]
  },
  {
   "cell_type": "code",
   "execution_count": null,
   "metadata": {},
   "outputs": [],
   "source": [
    "sqlist = [x**4 for x in range(1,11)]\n",
    "sqlist"
   ]
  },
  {
   "cell_type": "code",
   "execution_count": null,
   "metadata": {},
   "outputs": [],
   "source": []
  },
  {
   "cell_type": "code",
   "execution_count": null,
   "metadata": {},
   "outputs": [],
   "source": [
    "# looping through collective datatypes\n",
    "\n",
    "names = ['katrina','Karina','deepika','ranvir']\n",
    "\n",
    "# d = {1:'aditya', 2:'Ahad'}\n",
    "# accessing using index\n",
    "for x in range(len(names)):\n",
    "    print(\"I like\", names[x])\n",
    "# acessing  using elements    \n",
    "print('\\n')    \n",
    "for x in names:\n",
    "    print(\"I like\", x)"
   ]
  },
  {
   "cell_type": "code",
   "execution_count": null,
   "metadata": {},
   "outputs": [],
   "source": []
  },
  {
   "cell_type": "code",
   "execution_count": null,
   "metadata": {},
   "outputs": [],
   "source": [
    "movies=[\"ariya2\",\"x-men\",\"KGF\"]\n",
    "for x in movies:\n",
    "    print(x)"
   ]
  },
  {
   "cell_type": "markdown",
   "metadata": {},
   "source": [
    "# While Loops"
   ]
  },
  {
   "cell_type": "code",
   "execution_count": null,
   "metadata": {},
   "outputs": [],
   "source": [
    "num = 1\n",
    "while (num<5):\n",
    "    print(num, end = ' ')\n",
    "    #num = num + 1"
   ]
  },
  {
   "cell_type": "code",
   "execution_count": null,
   "metadata": {},
   "outputs": [],
   "source": [
    "num = 60\n",
    "while (num>50):\n",
    "    print(num, end = ' ')\n",
    "    num = num-1"
   ]
  },
  {
   "cell_type": "code",
   "execution_count": null,
   "metadata": {},
   "outputs": [],
   "source": [
    "l = [20,30,40,10,50]\n",
    "e = 30\n",
    "while e in l:\n",
    "    l.pop()\n",
    "    print(l, 'pop')"
   ]
  },
  {
   "cell_type": "code",
   "execution_count": 24,
   "metadata": {},
   "outputs": [
    {
     "data": {
      "text/plain": [
       "[20, 30, 40, 50]"
      ]
     },
     "execution_count": 24,
     "metadata": {},
     "output_type": "execute_result"
    }
   ],
   "source": [
    "l=[i for i in range(20,51,10)]\n",
    "l"
   ]
  },
  {
   "cell_type": "code",
   "execution_count": null,
   "metadata": {},
   "outputs": [],
   "source": [
    "x = 0\n",
    "while (x<10):\n",
    "    print(x, end=' ')\n",
    "    x = x + 1"
   ]
  },
  {
   "cell_type": "code",
   "execution_count": null,
   "metadata": {},
   "outputs": [],
   "source": [
    "# decrement in while loop\n",
    "\n",
    "num = 100\n",
    "while (num>=0):\n",
    "    print(num, end=' ')\n",
    "    num = num -  5"
   ]
  },
  {
   "cell_type": "code",
   "execution_count": null,
   "metadata": {
    "code_folding": []
   },
   "outputs": [],
   "source": [
    "count = 10\n",
    "while count > 5:\n",
    "    print(count, end=' ')\n",
    "    count = count - 1\n",
    "print('\\n')\n",
    "for i in range(10, 5, -1):\n",
    "    print(i, end= ' ')"
   ]
  },
  {
   "cell_type": "code",
   "execution_count": null,
   "metadata": {},
   "outputs": [],
   "source": [
    "count=0\n",
    "while(count < 5):\n",
    "    print(count)\n",
    "    count = count + 1\n",
    "    \n",
    "print(\"exit value:\", count)"
   ]
  },
  {
   "cell_type": "code",
   "execution_count": null,
   "metadata": {},
   "outputs": [],
   "source": [
    "actor_names = ['katrina', 'karina', 'deepika', 'ranvir']\n",
    "\n",
    "# print(actor_names[0])\n",
    "\n",
    "num = 0\n",
    "while num<len(actor_names):\n",
    "    print(\"I like \", actor_names[num])\n",
    "    num = num + 1"
   ]
  },
  {
   "cell_type": "code",
   "execution_count": null,
   "metadata": {},
   "outputs": [],
   "source": [
    "# print even and odd numbers from 1 to 10\n",
    "\n",
    "for i in range(1, 11):\n",
    "    if i%2==0:\n",
    "        print(i,\" is even\")\n",
    "    else:\n",
    "        print(i,\" is odd\")"
   ]
  },
  {
   "cell_type": "code",
   "execution_count": null,
   "metadata": {},
   "outputs": [],
   "source": []
  },
  {
   "cell_type": "markdown",
   "metadata": {},
   "source": [
    "# Usage of for loops in strings"
   ]
  },
  {
   "cell_type": "code",
   "execution_count": 25,
   "metadata": {},
   "outputs": [
    {
     "name": "stdout",
     "output_type": "stream",
     "text": [
      "a r i y a "
     ]
    }
   ],
   "source": [
    "s = \"ariya\"\n",
    "for x in s:\n",
    "    print(x, end=' ')"
   ]
  },
  {
   "cell_type": "code",
   "execution_count": 26,
   "metadata": {},
   "outputs": [
    {
     "name": "stdout",
     "output_type": "stream",
     "text": [
      "no yes yes no yes yes no "
     ]
    }
   ],
   "source": [
    "s = \"1001001\"\n",
    "\n",
    "for i in s:\n",
    "    if i == \"0\":\n",
    "        print(\"yes\", end=' ')\n",
    "    else:\n",
    "        print('no', end=' ')\n"
   ]
  },
  {
   "cell_type": "markdown",
   "metadata": {},
   "source": [
    "## Break, continue and pass"
   ]
  },
  {
   "cell_type": "code",
   "execution_count": 27,
   "metadata": {},
   "outputs": [
    {
     "name": "stdout",
     "output_type": "stream",
     "text": [
      "a s h w i n "
     ]
    }
   ],
   "source": [
    "# Break Usage:\n",
    "\n",
    "for i in \"ashwin_kumar\":\n",
    "    if i=='_':\n",
    "        break\n",
    "    print(i, end=' ')"
   ]
  },
  {
   "cell_type": "code",
   "execution_count": 29,
   "metadata": {},
   "outputs": [
    {
     "name": "stdout",
     "output_type": "stream",
     "text": [
      "1 1 1 1 1 "
     ]
    }
   ],
   "source": [
    "# continue Usage:\n",
    "\n",
    "for i in \"1000100010001001\":\n",
    "    if i=='0':\n",
    "        continue\n",
    "        print(i)\n",
    "    print(i, end=' ')"
   ]
  },
  {
   "cell_type": "code",
   "execution_count": 34,
   "metadata": {},
   "outputs": [
    {
     "name": "stdout",
     "output_type": "stream",
     "text": [
      "a s h w i n _ "
     ]
    }
   ],
   "source": [
    "# pass\n",
    "\n",
    "for i in \"ashwin_kumar\":\n",
    "    if i=='k':\n",
    "        break\n",
    "        print(i)\n",
    "    print(i, end=' ')"
   ]
  },
  {
   "cell_type": "code",
   "execution_count": 35,
   "metadata": {},
   "outputs": [
    {
     "name": "stdout",
     "output_type": "stream",
     "text": [
      "a s h w i n _ k\n",
      "k u m a r "
     ]
    }
   ],
   "source": [
    "for i in \"ashwin_kumar\":\n",
    "    if i=='k':\n",
    "        pass\n",
    "        print(i)\n",
    "    print(i, end=' ')"
   ]
  },
  {
   "cell_type": "code",
   "execution_count": 36,
   "metadata": {},
   "outputs": [
    {
     "name": "stdout",
     "output_type": "stream",
     "text": [
      "a s h w i n _ u m a r "
     ]
    }
   ],
   "source": [
    "for i in \"ashwin_kumar\":\n",
    "    if i=='k':\n",
    "        continue\n",
    "        print(i)\n",
    "    print(i, end=' ')"
   ]
  },
  {
   "cell_type": "markdown",
   "metadata": {},
   "source": [
    "class problem:\n",
    "- number 1500-2000 \n",
    "- divisible by 7 and multiple of 5"
   ]
  },
  {
   "cell_type": "code",
   "execution_count": null,
   "metadata": {},
   "outputs": [],
   "source": [
    "'''#2. Write a Python program to find those numbers which are divisible by 7 and multiple of 5,\n",
    "between 1500 and 2000 (both included).'''\n",
    "\n",
    "a=[]\n",
    "b=[]\n",
    "for x in range(1500, 2001):\n",
    "    if (x%7==0) and (x%5==0):\n",
    "        a.append(str(x))\n",
    "    else:\n",
    "        b.append(x)\n",
    "        \n",
    "# print('A: ', a)\n",
    "# print('B: ', b)\n",
    "\n",
    "x = ', '.join(a)\n",
    "print(type(x))\n",
    "print(', '.join(a))                   # joining the elements of the list wit a ,(comma)"
   ]
  },
  {
   "cell_type": "code",
   "execution_count": null,
   "metadata": {},
   "outputs": [],
   "source": [
    "for x in range(1500, 2001):\n",
    "    if (x%7==0) and (x%5==0):\n",
    "        print(x, end=', ')"
   ]
  },
  {
   "cell_type": "markdown",
   "metadata": {},
   "source": [
    "# Functions"
   ]
  },
  {
   "cell_type": "markdown",
   "metadata": {},
   "source": [
    "Syntax:\n",
    "    \n",
    "    def function_name (argument1, argument2,...):\n",
    "        statement1\n",
    "        statement2\n",
    "\n",
    "Advantages of using Functions:\n",
    "\n",
    "    1. The functional code needs to be written only once\n",
    "    2. You can define the function once and you can call it anywhere inside the program.\n",
    "    3. Reusability\n",
    "    4. Helps follow better coding practices. (avoid repetition of code)\n",
    "\n",
    "\n"
   ]
  },
  {
   "cell_type": "code",
   "execution_count": 41,
   "metadata": {},
   "outputs": [],
   "source": [
    "def add(num1, num2):\n",
    "    return num1+num2"
   ]
  },
  {
   "cell_type": "code",
   "execution_count": 42,
   "metadata": {},
   "outputs": [
    {
     "data": {
      "text/plain": [
       "58"
      ]
     },
     "execution_count": 42,
     "metadata": {},
     "output_type": "execute_result"
    }
   ],
   "source": [
    "add(20,38)"
   ]
  },
  {
   "cell_type": "code",
   "execution_count": null,
   "metadata": {},
   "outputs": [],
   "source": [
    "def add(x,y):\n",
    "    return (x+y)\n",
    "# # add(10, 20)\n",
    "addd = lambda a,b :a+b"
   ]
  },
  {
   "cell_type": "code",
   "execution_count": null,
   "metadata": {},
   "outputs": [],
   "source": [
    "a = add(40,80)\n",
    "b = add(100,200)\n",
    "print(a)\n",
    "\n",
    "print(b)"
   ]
  },
  {
   "cell_type": "code",
   "execution_count": 38,
   "metadata": {},
   "outputs": [],
   "source": [
    "# define function\n",
    "def square(num1):\n",
    "    return num1**2"
   ]
  },
  {
   "cell_type": "code",
   "execution_count": 39,
   "metadata": {},
   "outputs": [
    {
     "data": {
      "text/plain": [
       "100"
      ]
     },
     "execution_count": 39,
     "metadata": {},
     "output_type": "execute_result"
    }
   ],
   "source": [
    "# calling funtion\n",
    "square(10)"
   ]
  },
  {
   "cell_type": "code",
   "execution_count": null,
   "metadata": {},
   "outputs": [],
   "source": [
    "# A simple addition fuction\n",
    "\n",
    "def xyz(n1, n2):       #function definition\n",
    "    c = n1 + n2                 #function statements to be executed\n",
    "    print(c)                    #function statements to be executed \n",
    "    return c \n",
    "\n",
    "sum1 = xyz(5, 15)\n",
    "print(sum1)\n",
    "def raise_to_2(x):\n",
    "    c = x**2\n",
    "    return c                   #instead of printing you can also return a variable\n",
    "   \n",
    "\n",
    "# a = raise_to_2(10)\n",
    "# print(a)"
   ]
  },
  {
   "cell_type": "code",
   "execution_count": null,
   "metadata": {},
   "outputs": [],
   "source": [
    "def greater():\n",
    "    x = int(input(\"Enter the first number: \"))\n",
    "    y = int(input(\"Enter the second number: \"))\n",
    "    \n",
    "    if x>y:\n",
    "        print(x, \"is greater than \", y)\n",
    "    elif y>x:\n",
    "        print(y, \"is greater than \", x)\n",
    "    else:\n",
    "        print(\"Both are equal\")\n",
    "        \n",
    "greater()"
   ]
  },
  {
   "cell_type": "code",
   "execution_count": null,
   "metadata": {},
   "outputs": [],
   "source": [
    "# creating a function without arguments\n",
    "\n",
    "def addition():\n",
    "    a = 10\n",
    "    b = 20\n",
    "    c = a + b\n",
    "    return c\n",
    "    \n",
    "addition()"
   ]
  },
  {
   "cell_type": "code",
   "execution_count": null,
   "metadata": {},
   "outputs": [],
   "source": []
  },
  {
   "cell_type": "code",
   "execution_count": 43,
   "metadata": {},
   "outputs": [],
   "source": [
    "def greatest(x,y,z):\n",
    "    if x>y and x>z:\n",
    "        return x\n",
    "    elif y>z:\n",
    "        return y\n",
    "    else:\n",
    "        return z\n",
    "    "
   ]
  },
  {
   "cell_type": "code",
   "execution_count": null,
   "metadata": {},
   "outputs": [],
   "source": [
    "number = [10 20 13 34 51 11 77 21 22 12 100]\n",
    "maax = number[0]\n"
   ]
  },
  {
   "cell_type": "code",
   "execution_count": 44,
   "metadata": {},
   "outputs": [
    {
     "name": "stdout",
     "output_type": "stream",
     "text": [
      "11\n",
      "12\n",
      "2\n"
     ]
    },
    {
     "data": {
      "text/plain": [
       "12"
      ]
     },
     "execution_count": 44,
     "metadata": {},
     "output_type": "execute_result"
    }
   ],
   "source": [
    "x= int(input())\n",
    "y=int(input())\n",
    "z= int(input())\n",
    "result=greatest(x,y,z)\n",
    "result"
   ]
  },
  {
   "cell_type": "markdown",
   "metadata": {},
   "source": [
    "# Lambda"
   ]
  },
  {
   "cell_type": "code",
   "execution_count": null,
   "metadata": {},
   "outputs": [],
   "source": [
    "addd = lambda a,b :a+b"
   ]
  },
  {
   "cell_type": "code",
   "execution_count": null,
   "metadata": {},
   "outputs": [],
   "source": [
    "addd(10,20)"
   ]
  },
  {
   "cell_type": "code",
   "execution_count": null,
   "metadata": {},
   "outputs": [],
   "source": [
    "\n",
    "# Lambba\n",
    "\n",
    "# lambda\n",
    "# syntax - function_name = lambda {arguments} : {expression}\n",
    "# return - no return statement in lambda, the expression is automatically returned\n",
    "\n",
    "add4 = lambda a,b,c,d: a+b+c+d\n",
    "\n",
    "x = add4(2,6,7,8)\n",
    "print(x)\n",
    "\n",
    "multiply = lambda a, b, c, d: a*b*c*d\n",
    "\n",
    "print(multiply(10,5,2,4))"
   ]
  },
  {
   "cell_type": "code",
   "execution_count": null,
   "metadata": {},
   "outputs": [],
   "source": []
  },
  {
   "cell_type": "code",
   "execution_count": null,
   "metadata": {},
   "outputs": [],
   "source": [
    "def add4(a,b,c,d):\n",
    "    return a+b+c+d \n",
    "\n",
    "print(add4(2,6,7,8))"
   ]
  },
  {
   "cell_type": "markdown",
   "metadata": {},
   "source": [
    "## Setting Default Values"
   ]
  },
  {
   "cell_type": "code",
   "execution_count": null,
   "metadata": {},
   "outputs": [],
   "source": [
    "def add(a=10, b=20):\n",
    "    c = a+b\n",
    "    return c\n",
    "\n",
    "print(add())\n",
    "print(add(1000))\n",
    "print(add(40,80))"
   ]
  },
  {
   "cell_type": "markdown",
   "metadata": {},
   "source": [
    "# *args and **kwargs"
   ]
  },
  {
   "cell_type": "markdown",
   "metadata": {},
   "source": [
    "In Python, we can pass a variable number of arguments to a function using special symbols. There are two special symbols:\n",
    "\n",
    "    *args (Non Keyword Arguments)\n",
    "    **kwargs (Keyword Arguments)\n",
    "    \n",
    "    We use *args and **kwargs as an argument when we are unsure about the number of arguments to pass in the functions."
   ]
  },
  {
   "cell_type": "code",
   "execution_count": null,
   "metadata": {},
   "outputs": [],
   "source": [
    "def adder(*num):\n",
    "    sum = 0\n",
    "    for n in num:\n",
    "        sum = sum + n\n",
    "    print(\"Sum:\",sum)\n",
    "    \n",
    "    \n",
    "adder(3,5)\n",
    "adder(4,5,6,7)\n",
    "adder(1,2,3,5,6)"
   ]
  },
  {
   "cell_type": "code",
   "execution_count": null,
   "metadata": {},
   "outputs": [],
   "source": [
    "def myFun(**kwargs):  \n",
    "    for key, value in kwargs.items(): \n",
    "        print (\"%s == %s\" %(key, value))\n",
    "\n",
    "# Driver code \n",
    "myFun(first ='Geeks', mid ='for', last='Geeks')     "
   ]
  },
  {
   "cell_type": "code",
   "execution_count": null,
   "metadata": {},
   "outputs": [],
   "source": [
    "def prime(number):\n",
    "    2,number-1"
   ]
  },
  {
   "cell_type": "markdown",
   "metadata": {},
   "source": [
    "# Functions Problems"
   ]
  },
  {
   "cell_type": "code",
   "execution_count": 47,
   "metadata": {},
   "outputs": [],
   "source": [
    "'''find if a number is prime:'''\n",
    "\n",
    "def prime(a):\n",
    "    for i in range(2,a):\n",
    "        if a%i == 0:\n",
    "            print(a, \"not prime number\")\n",
    "            break\n",
    "    else:\n",
    "        print(a,\"prime number\")"
   ]
  },
  {
   "cell_type": "code",
   "execution_count": 49,
   "metadata": {},
   "outputs": [
    {
     "name": "stdout",
     "output_type": "stream",
     "text": [
      "Enter a number to check prime or not: 13\n",
      "13 prime number\n"
     ]
    }
   ],
   "source": [
    "for i in range(100):\n",
    "    prime(i)\n",
    "    \n",
    "#a = int(input('Enter a number to check prime or not: '))prime(a)"
   ]
  },
  {
   "cell_type": "code",
   "execution_count": 50,
   "metadata": {},
   "outputs": [],
   "source": [
    "def string():\n",
    "    print(\"hi\")"
   ]
  },
  {
   "cell_type": "code",
   "execution_count": 51,
   "metadata": {},
   "outputs": [
    {
     "name": "stdout",
     "output_type": "stream",
     "text": [
      "hi\n"
     ]
    }
   ],
   "source": [
    "string()"
   ]
  },
  {
   "cell_type": "code",
   "execution_count": null,
   "metadata": {},
   "outputs": [],
   "source": [
    "'''Write a Python program to sum all the items in a list.'''\n",
    "\n",
    "def sum_list(items):\n",
    "    sum_numbers = 0\n",
    "    for x in items:\n",
    "        sum_numbers = sum_numbers + x\n",
    "    return sum_numbers\n",
    "\n",
    "print(sum_list([1,5,7]))\n",
    "# print(sum_list([5,21,9]))"
   ]
  },
  {
   "cell_type": "code",
   "execution_count": null,
   "metadata": {},
   "outputs": [],
   "source": [
    "'''Write a Python program to multiply all the items in a list.'''\n",
    "\n",
    "def multiply_list(items):\n",
    "    tot = 1\n",
    "    for x in items:\n",
    "        tot = tot * x\n",
    "    return tot\n",
    "print(multiply_list([5,5,10]))\n"
   ]
  },
  {
   "cell_type": "code",
   "execution_count": null,
   "metadata": {},
   "outputs": [],
   "source": [
    "'''write a python program to return the sum of even and odd numbers\n",
    "from a list seperately.'''\n",
    "1 2 3 4\n",
    "\n",
    "def sum_even_odd(list1):\n",
    "    sum_o=0\n",
    "    sum_e=0\n",
    "    for i in list1:\n",
    "        if isinstance(i, int)!=True:\n",
    "            pass\n",
    "        elif i%2==0:\n",
    "            sum_e = sum_e+i\n",
    "        else:\n",
    "            sum_o = sum_o+i \n",
    "    return sum_e, sum_o\n",
    "\n",
    "sum_e, sum_o = sum_even_odd([1,2,3,4,True,'Hi',5.72])\n",
    "print('sum of even numbers and odd numbers in the list is', sum_e, sum_o, 'respectively.')"
   ]
  },
  {
   "cell_type": "code",
   "execution_count": null,
   "metadata": {},
   "outputs": [],
   "source": [
    "'''Write a Python program to get the largest number from a list.'''\n",
    "\n",
    "def max_num_in_list(l):\n",
    "    max1 = l[0]\n",
    "    for a in l:\n",
    "        if a > max1:\n",
    "            max1 = a\n",
    "    return max1\n",
    "\n",
    "print(max_num_in_list([20, 10, 40, 50]))\n",
    "\n",
    "a = [20, 10, 40, 50]\n",
    "min(a)"
   ]
  },
  {
   "cell_type": "code",
   "execution_count": null,
   "metadata": {},
   "outputs": [],
   "source": [
    "Assign 1:\n",
    "    - Prime number"
   ]
  },
  {
   "cell_type": "code",
   "execution_count": null,
   "metadata": {},
   "outputs": [],
   "source": [
    "''' Write a Python program to check if a given key already exists in a dictionary.\n",
    "d = {1: 10, 2: 20, 3: 30, 4: 40, 5: 50, 6: 60}'''\n",
    "\n",
    "def is_key_present(x):\n",
    "    if x in d:\n",
    "        print('Key is present in the dictionary')\n",
    "    else:\n",
    "        print('Key is not present in the dictionary')\n",
    "\n",
    "d = {1: 10, 2: 20, 3: 30, 4: 40, 5: 50, 6: 60}\n",
    "is_key_present(5)\n",
    "is_key_present(10)"
   ]
  },
  {
   "cell_type": "code",
   "execution_count": null,
   "metadata": {},
   "outputs": [],
   "source": [
    "#Max of three numbers\n",
    "\n",
    "def max3(a,b,c):\n",
    "    if a>b and a>c:\n",
    "        print(a, \" is max\")\n",
    "    elif b>a and b>c:\n",
    "        print(b, \"is max\")\n",
    "    elif c>a and c>b:\n",
    "        print(c, \"is max\")\n",
    "        \n",
    "max3(2,3,5)"
   ]
  },
  {
   "cell_type": "code",
   "execution_count": null,
   "metadata": {},
   "outputs": [],
   "source": [
    "'given a string, return the reverse of the string'\n",
    "\n",
    "def string_reverse(str1):\n",
    "    rstr1 = ''\n",
    "    x = len(str1) \n",
    "    while x > 0:\n",
    "        rstr1 = rstr1 + str1[x-1] \n",
    "        print(rstr1)\n",
    "        x = x - 1\n",
    "    return rstr1\n",
    "print(string_reverse('1234567'))"
   ]
  },
  {
   "cell_type": "code",
   "execution_count": null,
   "metadata": {},
   "outputs": [],
   "source": [
    "def string_reverse(str1):\n",
    "    return str1[::-1]\n",
    "string_reverse('1234567')"
   ]
  },
  {
   "cell_type": "code",
   "execution_count": null,
   "metadata": {},
   "outputs": [],
   "source": [
    "s = '1234567'\n",
    "s[::-1]"
   ]
  },
  {
   "cell_type": "code",
   "execution_count": null,
   "metadata": {},
   "outputs": [],
   "source": [
    "x=''\n",
    "y='d'\n",
    "x+y"
   ]
  },
  {
   "cell_type": "code",
   "execution_count": null,
   "metadata": {},
   "outputs": [],
   "source": [
    "# define a function to get cube of a number\n",
    "\n",
    "def cube(a):\n",
    "    c = a*a*a\n",
    "    return c\n",
    "\n",
    "print(cube(2))\n",
    "print(cube(7))\n",
    "print(cube(10))\n"
   ]
  },
  {
   "cell_type": "code",
   "execution_count": null,
   "metadata": {},
   "outputs": [],
   "source": [
    "def s_reverse(str1):\n",
    "    rstr = str1[::-1]\n",
    "    return rstr\n",
    "\n",
    "s_reverse(\"1234567\")\n",
    "\n",
    "str1 =\"abcd\"\n",
    "x = len(str1)\n",
    "\n",
    "print(str1[x-1])\n",
    "\n",
    "txt = \"Hello World\"[::-1]\n",
    "print(txt)"
   ]
  },
  {
   "cell_type": "code",
   "execution_count": null,
   "metadata": {},
   "outputs": [],
   "source": [
    "def string_test(s):\n",
    "    d={\"UPPER_CASE\":0, \"LOWER_CASE\":0}\n",
    "    for c in s:\n",
    "        if c.isupper():\n",
    "            d[\"UPPER_CASE\"]+=1\n",
    "        elif c.islower():\n",
    "            d[\"LOWER_CASE\"]+=1\n",
    "        else:\n",
    "            pass\n",
    "        #print(c, d[\"UPPER_CASE\"], d[\"LOWER_CASE\"])\n",
    "    print (\"Original String : \", s)\n",
    "    print (\"No. of Upper case characters : \", d[\"UPPER_CASE\"])\n",
    "    print (\"No. of Lower case Characters : \", d[\"LOWER_CASE\"])\n",
    "\n",
    "string_test('The quick Brown Fox')"
   ]
  },
  {
   "cell_type": "code",
   "execution_count": null,
   "metadata": {},
   "outputs": [],
   "source": [
    "s = 'a'\n",
    "s.islower()"
   ]
  },
  {
   "cell_type": "code",
   "execution_count": null,
   "metadata": {},
   "outputs": [],
   "source": [
    "def unique_list(l):\n",
    "    x = []\n",
    "    for a in l:\n",
    "        if a not in x:\n",
    "            x.append(a)\n",
    "#         print(x)\n",
    "    return x\n",
    "\n",
    "unique_list([1,2,3,3,3,3,4,4,5])"
   ]
  },
  {
   "cell_type": "code",
   "execution_count": null,
   "metadata": {},
   "outputs": [],
   "source": [
    "def unique (list1):\n",
    "    list2 = set(list1)\n",
    "    list3 = list(list2)\n",
    "    return list3\n",
    "unique([1,2,3,3,3,3,4,4,5])    "
   ]
  },
  {
   "cell_type": "code",
   "execution_count": null,
   "metadata": {},
   "outputs": [],
   "source": [
    "prime(13)"
   ]
  },
  {
   "cell_type": "markdown",
   "metadata": {},
   "source": [
    "2## "
   ]
  }
 ],
 "metadata": {
  "hide_input": false,
  "kernelspec": {
   "display_name": "Python 3",
   "language": "python",
   "name": "python3"
  },
  "language_info": {
   "codemirror_mode": {
    "name": "ipython",
    "version": 3
   },
   "file_extension": ".py",
   "mimetype": "text/x-python",
   "name": "python",
   "nbconvert_exporter": "python",
   "pygments_lexer": "ipython3",
   "version": "3.7.4"
  }
 },
 "nbformat": 4,
 "nbformat_minor": 2
}
